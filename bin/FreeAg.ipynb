{
 "cells": [
  {
   "cell_type": "code",
   "execution_count": 246,
   "id": "activated-certification",
   "metadata": {},
   "outputs": [],
   "source": [
    "import pandas as pd\n"
   ]
  },
  {
   "cell_type": "code",
   "execution_count": 184,
   "id": "responsible-stock",
   "metadata": {},
   "outputs": [
    {
     "data": {
      "text/plain": [
       "'1.1.4'"
      ]
     },
     "execution_count": 184,
     "metadata": {},
     "output_type": "execute_result"
    }
   ],
   "source": [
    "pd. __version__"
   ]
  },
  {
   "cell_type": "code",
   "execution_count": 247,
   "id": "close-mortgage",
   "metadata": {},
   "outputs": [],
   "source": [
    "#Read the file\n",
    "Data1=pd.read_csv('bank_transaction_features.csv')\n",
    "Data2=pd.read_csv('bank_transaction_labels.csv')"
   ]
  },
  {
   "cell_type": "markdown",
   "id": "amateur-breed",
   "metadata": {},
   "source": [
    "Exploratory data analysis"
   ]
  },
  {
   "cell_type": "code",
   "execution_count": 248,
   "id": "confidential-faith",
   "metadata": {},
   "outputs": [
    {
     "data": {
      "text/html": [
       "<div>\n",
       "<style scoped>\n",
       "    .dataframe tbody tr th:only-of-type {\n",
       "        vertical-align: middle;\n",
       "    }\n",
       "\n",
       "    .dataframe tbody tr th {\n",
       "        vertical-align: top;\n",
       "    }\n",
       "\n",
       "    .dataframe thead th {\n",
       "        text-align: right;\n",
       "    }\n",
       "</style>\n",
       "<table border=\"1\" class=\"dataframe\">\n",
       "  <thead>\n",
       "    <tr style=\"text-align: right;\">\n",
       "      <th></th>\n",
       "      <th>bank_transaction_id</th>\n",
       "      <th>bank_transaction_description</th>\n",
       "      <th>bank_transaction_amount</th>\n",
       "      <th>bank_transaction_type</th>\n",
       "    </tr>\n",
       "  </thead>\n",
       "  <tbody>\n",
       "    <tr>\n",
       "      <th>0</th>\n",
       "      <td>21786195</td>\n",
       "      <td>citylink</td>\n",
       "      <td>-13.80</td>\n",
       "      <td>MPO</td>\n",
       "    </tr>\n",
       "    <tr>\n",
       "      <th>1</th>\n",
       "      <td>21786196</td>\n",
       "      <td>citylink</td>\n",
       "      <td>-13.14</td>\n",
       "      <td>DEB</td>\n",
       "    </tr>\n",
       "    <tr>\n",
       "      <th>2</th>\n",
       "      <td>21786197</td>\n",
       "      <td>1Jul19 OYSTER</td>\n",
       "      <td>-36.98</td>\n",
       "      <td>DEB</td>\n",
       "    </tr>\n",
       "    <tr>\n",
       "      <th>3</th>\n",
       "      <td>21786198</td>\n",
       "      <td>travelodge</td>\n",
       "      <td>-75.73</td>\n",
       "      <td>MPO</td>\n",
       "    </tr>\n",
       "    <tr>\n",
       "      <th>4</th>\n",
       "      <td>21786199</td>\n",
       "      <td>6Jul19 RINGGO</td>\n",
       "      <td>-37.86</td>\n",
       "      <td>CSH</td>\n",
       "    </tr>\n",
       "  </tbody>\n",
       "</table>\n",
       "</div>"
      ],
      "text/plain": [
       "   bank_transaction_id bank_transaction_description  bank_transaction_amount  \\\n",
       "0             21786195                     citylink                   -13.80   \n",
       "1             21786196                     citylink                   -13.14   \n",
       "2             21786197                1Jul19 OYSTER                   -36.98   \n",
       "3             21786198                   travelodge                   -75.73   \n",
       "4             21786199                6Jul19 RINGGO                   -37.86   \n",
       "\n",
       "  bank_transaction_type  \n",
       "0                   MPO  \n",
       "1                   DEB  \n",
       "2                   DEB  \n",
       "3                   MPO  \n",
       "4                   CSH  "
      ]
     },
     "execution_count": 248,
     "metadata": {},
     "output_type": "execute_result"
    }
   ],
   "source": [
    "#Veiw of feature set\n",
    "Data1.head()"
   ]
  },
  {
   "cell_type": "code",
   "execution_count": 187,
   "id": "monetary-impression",
   "metadata": {},
   "outputs": [
    {
     "data": {
      "text/html": [
       "<div>\n",
       "<style scoped>\n",
       "    .dataframe tbody tr th:only-of-type {\n",
       "        vertical-align: middle;\n",
       "    }\n",
       "\n",
       "    .dataframe tbody tr th {\n",
       "        vertical-align: top;\n",
       "    }\n",
       "\n",
       "    .dataframe thead th {\n",
       "        text-align: right;\n",
       "    }\n",
       "</style>\n",
       "<table border=\"1\" class=\"dataframe\">\n",
       "  <thead>\n",
       "    <tr style=\"text-align: right;\">\n",
       "      <th></th>\n",
       "      <th>bank_transaction_id</th>\n",
       "      <th>bank_transaction_category</th>\n",
       "      <th>bank_transaction_dataset</th>\n",
       "    </tr>\n",
       "  </thead>\n",
       "  <tbody>\n",
       "    <tr>\n",
       "      <th>0</th>\n",
       "      <td>21786195</td>\n",
       "      <td>TRAVEL</td>\n",
       "      <td>TRAIN</td>\n",
       "    </tr>\n",
       "    <tr>\n",
       "      <th>1</th>\n",
       "      <td>21786196</td>\n",
       "      <td>TRAVEL</td>\n",
       "      <td>TRAIN</td>\n",
       "    </tr>\n",
       "    <tr>\n",
       "      <th>2</th>\n",
       "      <td>21786197</td>\n",
       "      <td>TRAVEL</td>\n",
       "      <td>TRAIN</td>\n",
       "    </tr>\n",
       "    <tr>\n",
       "      <th>3</th>\n",
       "      <td>21786198</td>\n",
       "      <td>TRAVEL</td>\n",
       "      <td>TRAIN</td>\n",
       "    </tr>\n",
       "    <tr>\n",
       "      <th>4</th>\n",
       "      <td>21786199</td>\n",
       "      <td>TRAVEL</td>\n",
       "      <td>TRAIN</td>\n",
       "    </tr>\n",
       "  </tbody>\n",
       "</table>\n",
       "</div>"
      ],
      "text/plain": [
       "   bank_transaction_id bank_transaction_category bank_transaction_dataset\n",
       "0             21786195                    TRAVEL                    TRAIN\n",
       "1             21786196                    TRAVEL                    TRAIN\n",
       "2             21786197                    TRAVEL                    TRAIN\n",
       "3             21786198                    TRAVEL                    TRAIN\n",
       "4             21786199                    TRAVEL                    TRAIN"
      ]
     },
     "execution_count": 187,
     "metadata": {},
     "output_type": "execute_result"
    }
   ],
   "source": [
    "#Veiw of label set\n",
    "Data2.head()"
   ]
  },
  {
   "cell_type": "code",
   "execution_count": 188,
   "id": "disturbed-words",
   "metadata": {},
   "outputs": [
    {
     "data": {
      "text/plain": [
       "(12500, 4)"
      ]
     },
     "execution_count": 188,
     "metadata": {},
     "output_type": "execute_result"
    }
   ],
   "source": [
    "#Rows & column in feature set\n",
    "Data1.shape"
   ]
  },
  {
   "cell_type": "code",
   "execution_count": 189,
   "id": "strong-basket",
   "metadata": {},
   "outputs": [
    {
     "data": {
      "text/plain": [
       "(12500, 3)"
      ]
     },
     "execution_count": 189,
     "metadata": {},
     "output_type": "execute_result"
    }
   ],
   "source": [
    "#Rows & column in label set\n",
    "Data2.shape"
   ]
  },
  {
   "cell_type": "code",
   "execution_count": 190,
   "id": "composite-french",
   "metadata": {},
   "outputs": [
    {
     "data": {
      "text/plain": [
       "Index(['bank_transaction_id', 'bank_transaction_description',\n",
       "       'bank_transaction_amount', 'bank_transaction_type'],\n",
       "      dtype='object')"
      ]
     },
     "execution_count": 190,
     "metadata": {},
     "output_type": "execute_result"
    }
   ],
   "source": [
    "#check column name in feature set\n",
    "Data1.columns"
   ]
  },
  {
   "cell_type": "code",
   "execution_count": 191,
   "id": "baking-testimony",
   "metadata": {},
   "outputs": [
    {
     "data": {
      "text/plain": [
       "Index(['bank_transaction_id', 'bank_transaction_category',\n",
       "       'bank_transaction_dataset'],\n",
       "      dtype='object')"
      ]
     },
     "execution_count": 191,
     "metadata": {},
     "output_type": "execute_result"
    }
   ],
   "source": [
    "#check column name in label set\n",
    "Data2.columns"
   ]
  },
  {
   "cell_type": "code",
   "execution_count": 192,
   "id": "peripheral-software",
   "metadata": {},
   "outputs": [
    {
     "data": {
      "text/plain": [
       "bank_transaction_id               int64\n",
       "bank_transaction_description     object\n",
       "bank_transaction_amount         float64\n",
       "bank_transaction_type            object\n",
       "dtype: object"
      ]
     },
     "execution_count": 192,
     "metadata": {},
     "output_type": "execute_result"
    }
   ],
   "source": [
    "#dtype of the set\n",
    "Data1.dtypes"
   ]
  },
  {
   "cell_type": "code",
   "execution_count": 193,
   "id": "signed-check",
   "metadata": {},
   "outputs": [
    {
     "data": {
      "text/plain": [
       "bank_transaction_id           int64\n",
       "bank_transaction_category    object\n",
       "bank_transaction_dataset     object\n",
       "dtype: object"
      ]
     },
     "execution_count": 193,
     "metadata": {},
     "output_type": "execute_result"
    }
   ],
   "source": [
    "#dtype of the set\n",
    "Data2.dtypes"
   ]
  },
  {
   "cell_type": "code",
   "execution_count": 194,
   "id": "diverse-senior",
   "metadata": {},
   "outputs": [
    {
     "data": {
      "text/plain": [
       "bank_transaction_id  bank_transaction_description  bank_transaction_amount  bank_transaction_type\n",
       "False                False                         False                    False                    12369\n",
       "                     True                          False                    False                      131\n",
       "dtype: int64"
      ]
     },
     "execution_count": 194,
     "metadata": {},
     "output_type": "execute_result"
    }
   ],
   "source": [
    "#Missing v\n",
    "Data1.isnull().value_counts()"
   ]
  },
  {
   "cell_type": "code",
   "execution_count": 195,
   "id": "burning-europe",
   "metadata": {},
   "outputs": [
    {
     "data": {
      "text/plain": [
       "bank_transaction_id               0\n",
       "bank_transaction_description    131\n",
       "bank_transaction_amount           0\n",
       "bank_transaction_type             0\n",
       "dtype: int64"
      ]
     },
     "execution_count": 195,
     "metadata": {},
     "output_type": "execute_result"
    }
   ],
   "source": [
    "Data1.isna().sum()"
   ]
  },
  {
   "cell_type": "code",
   "execution_count": 250,
   "id": "silent-citizenship",
   "metadata": {},
   "outputs": [
    {
     "data": {
      "text/html": [
       "<div>\n",
       "<style scoped>\n",
       "    .dataframe tbody tr th:only-of-type {\n",
       "        vertical-align: middle;\n",
       "    }\n",
       "\n",
       "    .dataframe tbody tr th {\n",
       "        vertical-align: top;\n",
       "    }\n",
       "\n",
       "    .dataframe thead th {\n",
       "        text-align: right;\n",
       "    }\n",
       "</style>\n",
       "<table border=\"1\" class=\"dataframe\">\n",
       "  <thead>\n",
       "    <tr style=\"text-align: right;\">\n",
       "      <th></th>\n",
       "      <th>bank_transaction_id</th>\n",
       "      <th>bank_transaction_description</th>\n",
       "      <th>bank_transaction_amount</th>\n",
       "      <th>bank_transaction_type</th>\n",
       "    </tr>\n",
       "  </thead>\n",
       "  <tbody>\n",
       "    <tr>\n",
       "      <th>0</th>\n",
       "      <td>21786195</td>\n",
       "      <td>citylink</td>\n",
       "      <td>-13.80</td>\n",
       "      <td>MPO</td>\n",
       "    </tr>\n",
       "    <tr>\n",
       "      <th>1</th>\n",
       "      <td>21786196</td>\n",
       "      <td>citylink</td>\n",
       "      <td>-13.14</td>\n",
       "      <td>DEB</td>\n",
       "    </tr>\n",
       "    <tr>\n",
       "      <th>2</th>\n",
       "      <td>21786197</td>\n",
       "      <td>1Jul19 OYSTER</td>\n",
       "      <td>-36.98</td>\n",
       "      <td>DEB</td>\n",
       "    </tr>\n",
       "    <tr>\n",
       "      <th>3</th>\n",
       "      <td>21786198</td>\n",
       "      <td>travelodge</td>\n",
       "      <td>-75.73</td>\n",
       "      <td>MPO</td>\n",
       "    </tr>\n",
       "    <tr>\n",
       "      <th>4</th>\n",
       "      <td>21786199</td>\n",
       "      <td>6Jul19 RINGGO</td>\n",
       "      <td>-37.86</td>\n",
       "      <td>CSH</td>\n",
       "    </tr>\n",
       "    <tr>\n",
       "      <th>...</th>\n",
       "      <td>...</td>\n",
       "      <td>...</td>\n",
       "      <td>...</td>\n",
       "      <td>...</td>\n",
       "    </tr>\n",
       "    <tr>\n",
       "      <th>12495</th>\n",
       "      <td>24140325</td>\n",
       "      <td>COVERSURE</td>\n",
       "      <td>-28.46</td>\n",
       "      <td>FPO</td>\n",
       "    </tr>\n",
       "    <tr>\n",
       "      <th>12496</th>\n",
       "      <td>24140326</td>\n",
       "      <td>DIRECTLINE INS FASTER PAYMENTS OUT</td>\n",
       "      <td>-35.64</td>\n",
       "      <td>FPO</td>\n",
       "    </tr>\n",
       "    <tr>\n",
       "      <th>12497</th>\n",
       "      <td>24140327</td>\n",
       "      <td>SUNDRY DEBIT Direct Debit coversure</td>\n",
       "      <td>-22.37</td>\n",
       "      <td>DD</td>\n",
       "    </tr>\n",
       "    <tr>\n",
       "      <th>12498</th>\n",
       "      <td>24140328</td>\n",
       "      <td>17Aug19 insurance Direct Debit</td>\n",
       "      <td>-23.11</td>\n",
       "      <td>DD</td>\n",
       "    </tr>\n",
       "    <tr>\n",
       "      <th>12499</th>\n",
       "      <td>24140329</td>\n",
       "      <td>enterprise car insurance</td>\n",
       "      <td>-24.15</td>\n",
       "      <td>DD</td>\n",
       "    </tr>\n",
       "  </tbody>\n",
       "</table>\n",
       "<p>12369 rows × 4 columns</p>\n",
       "</div>"
      ],
      "text/plain": [
       "       bank_transaction_id         bank_transaction_description  \\\n",
       "0                 21786195                             citylink   \n",
       "1                 21786196                             citylink   \n",
       "2                 21786197                        1Jul19 OYSTER   \n",
       "3                 21786198                           travelodge   \n",
       "4                 21786199                        6Jul19 RINGGO   \n",
       "...                    ...                                  ...   \n",
       "12495             24140325                            COVERSURE   \n",
       "12496             24140326   DIRECTLINE INS FASTER PAYMENTS OUT   \n",
       "12497             24140327  SUNDRY DEBIT Direct Debit coversure   \n",
       "12498             24140328       17Aug19 insurance Direct Debit   \n",
       "12499             24140329             enterprise car insurance   \n",
       "\n",
       "       bank_transaction_amount bank_transaction_type  \n",
       "0                       -13.80                   MPO  \n",
       "1                       -13.14                   DEB  \n",
       "2                       -36.98                   DEB  \n",
       "3                       -75.73                   MPO  \n",
       "4                       -37.86                   CSH  \n",
       "...                        ...                   ...  \n",
       "12495                   -28.46                   FPO  \n",
       "12496                   -35.64                   FPO  \n",
       "12497                   -22.37                    DD  \n",
       "12498                   -23.11                    DD  \n",
       "12499                   -24.15                    DD  \n",
       "\n",
       "[12369 rows x 4 columns]"
      ]
     },
     "execution_count": 250,
     "metadata": {},
     "output_type": "execute_result"
    }
   ],
   "source": [
    "#DaData1.dropna()"
   ]
  },
  {
   "cell_type": "code",
   "execution_count": 197,
   "id": "dangerous-adobe",
   "metadata": {},
   "outputs": [
    {
     "data": {
      "text/plain": [
       "bank_transaction_id          0\n",
       "bank_transaction_category    0\n",
       "bank_transaction_dataset     0\n",
       "dtype: int64"
      ]
     },
     "execution_count": 197,
     "metadata": {},
     "output_type": "execute_result"
    }
   ],
   "source": [
    "#missing values\n",
    "Data2.isna().sum()"
   ]
  },
  {
   "cell_type": "code",
   "execution_count": 198,
   "id": "irish-principal",
   "metadata": {},
   "outputs": [
    {
     "data": {
      "text/plain": [
       "count    12500.000000\n",
       "mean       -19.613017\n",
       "std         15.060147\n",
       "min       -102.590000\n",
       "25%        -28.022500\n",
       "50%        -19.040000\n",
       "75%         -4.687500\n",
       "max         -0.320000\n",
       "Name: bank_transaction_amount, dtype: float64"
      ]
     },
     "execution_count": 198,
     "metadata": {},
     "output_type": "execute_result"
    }
   ],
   "source": [
    "Data1['bank_transaction_amount'].describe()"
   ]
  },
  {
   "cell_type": "code",
   "execution_count": 199,
   "id": "three-cancer",
   "metadata": {},
   "outputs": [],
   "source": [
    "import matplotlib"
   ]
  },
  {
   "cell_type": "code",
   "execution_count": 200,
   "id": "cooked-expansion",
   "metadata": {},
   "outputs": [
    {
     "name": "stdout",
     "output_type": "stream",
     "text": [
      "Requirement already satisfied: seaborn in d:\\drivers\\lib\\site-packages (0.11.1)\n",
      "Requirement already satisfied: scipy>=1.0 in d:\\drivers\\lib\\site-packages (from seaborn) (1.6.1)\n",
      "Requirement already satisfied: numpy>=1.15 in c:\\users\\bhavana\\appdata\\roaming\\python\\python39\\site-packages (from seaborn) (1.19.4)\n",
      "Requirement already satisfied: matplotlib>=2.2 in c:\\users\\bhavana\\appdata\\roaming\\python\\python39\\site-packages (from seaborn) (3.3.3)\n",
      "Requirement already satisfied: pandas>=0.23 in c:\\users\\bhavana\\appdata\\roaming\\python\\python39\\site-packages (from seaborn) (1.1.4)\n",
      "Requirement already satisfied: python-dateutil>=2.1 in c:\\users\\bhavana\\appdata\\roaming\\python\\python39\\site-packages (from matplotlib>=2.2->seaborn) (2.8.1)\n",
      "Requirement already satisfied: pyparsing!=2.0.4,!=2.1.2,!=2.1.6,>=2.0.3 in c:\\users\\bhavana\\appdata\\roaming\\python\\python39\\site-packages (from matplotlib>=2.2->seaborn) (2.4.7)\n",
      "Requirement already satisfied: kiwisolver>=1.0.1 in c:\\users\\bhavana\\appdata\\roaming\\python\\python39\\site-packages (from matplotlib>=2.2->seaborn) (1.3.1)\n",
      "Requirement already satisfied: pillow>=6.2.0 in c:\\users\\bhavana\\appdata\\roaming\\python\\python39\\site-packages (from matplotlib>=2.2->seaborn) (8.0.1)\n",
      "Requirement already satisfied: cycler>=0.10 in c:\\users\\bhavana\\appdata\\roaming\\python\\python39\\site-packages (from matplotlib>=2.2->seaborn) (0.10.0)\n",
      "Requirement already satisfied: six in c:\\users\\bhavana\\appdata\\roaming\\python\\python39\\site-packages (from cycler>=0.10->matplotlib>=2.2->seaborn) (1.15.0)\n",
      "Requirement already satisfied: pytz>=2017.2 in c:\\users\\bhavana\\appdata\\roaming\\python\\python39\\site-packages (from pandas>=0.23->seaborn) (2020.4)\n"
     ]
    }
   ],
   "source": [
    "!pip install seaborn"
   ]
  },
  {
   "cell_type": "code",
   "execution_count": 201,
   "id": "paperback-revision",
   "metadata": {},
   "outputs": [],
   "source": [
    "import seaborn as sns\n",
    "sns.set()"
   ]
  },
  {
   "cell_type": "code",
   "execution_count": 251,
   "id": "handed-viewer",
   "metadata": {},
   "outputs": [],
   "source": [
    "Data = pd.merge(Data1, Data2,on='bank_transaction_id',how='inner')"
   ]
  },
  {
   "cell_type": "code",
   "execution_count": 252,
   "id": "antique-index",
   "metadata": {},
   "outputs": [
    {
     "data": {
      "text/html": [
       "<div>\n",
       "<style scoped>\n",
       "    .dataframe tbody tr th:only-of-type {\n",
       "        vertical-align: middle;\n",
       "    }\n",
       "\n",
       "    .dataframe tbody tr th {\n",
       "        vertical-align: top;\n",
       "    }\n",
       "\n",
       "    .dataframe thead th {\n",
       "        text-align: right;\n",
       "    }\n",
       "</style>\n",
       "<table border=\"1\" class=\"dataframe\">\n",
       "  <thead>\n",
       "    <tr style=\"text-align: right;\">\n",
       "      <th></th>\n",
       "      <th>bank_transaction_id</th>\n",
       "      <th>bank_transaction_description</th>\n",
       "      <th>bank_transaction_amount</th>\n",
       "      <th>bank_transaction_type</th>\n",
       "      <th>bank_transaction_category</th>\n",
       "      <th>bank_transaction_dataset</th>\n",
       "    </tr>\n",
       "  </thead>\n",
       "  <tbody>\n",
       "    <tr>\n",
       "      <th>0</th>\n",
       "      <td>21786195</td>\n",
       "      <td>citylink</td>\n",
       "      <td>-13.80</td>\n",
       "      <td>MPO</td>\n",
       "      <td>TRAVEL</td>\n",
       "      <td>TRAIN</td>\n",
       "    </tr>\n",
       "    <tr>\n",
       "      <th>1</th>\n",
       "      <td>21786196</td>\n",
       "      <td>citylink</td>\n",
       "      <td>-13.14</td>\n",
       "      <td>DEB</td>\n",
       "      <td>TRAVEL</td>\n",
       "      <td>TRAIN</td>\n",
       "    </tr>\n",
       "    <tr>\n",
       "      <th>2</th>\n",
       "      <td>21786197</td>\n",
       "      <td>1Jul19 OYSTER</td>\n",
       "      <td>-36.98</td>\n",
       "      <td>DEB</td>\n",
       "      <td>TRAVEL</td>\n",
       "      <td>TRAIN</td>\n",
       "    </tr>\n",
       "    <tr>\n",
       "      <th>3</th>\n",
       "      <td>21786198</td>\n",
       "      <td>travelodge</td>\n",
       "      <td>-75.73</td>\n",
       "      <td>MPO</td>\n",
       "      <td>TRAVEL</td>\n",
       "      <td>TRAIN</td>\n",
       "    </tr>\n",
       "    <tr>\n",
       "      <th>4</th>\n",
       "      <td>21786199</td>\n",
       "      <td>6Jul19 RINGGO</td>\n",
       "      <td>-37.86</td>\n",
       "      <td>CSH</td>\n",
       "      <td>TRAVEL</td>\n",
       "      <td>TRAIN</td>\n",
       "    </tr>\n",
       "    <tr>\n",
       "      <th>...</th>\n",
       "      <td>...</td>\n",
       "      <td>...</td>\n",
       "      <td>...</td>\n",
       "      <td>...</td>\n",
       "      <td>...</td>\n",
       "      <td>...</td>\n",
       "    </tr>\n",
       "    <tr>\n",
       "      <th>12495</th>\n",
       "      <td>24140325</td>\n",
       "      <td>COVERSURE</td>\n",
       "      <td>-28.46</td>\n",
       "      <td>FPO</td>\n",
       "      <td>INSURANCE</td>\n",
       "      <td>VAL</td>\n",
       "    </tr>\n",
       "    <tr>\n",
       "      <th>12496</th>\n",
       "      <td>24140326</td>\n",
       "      <td>DIRECTLINE INS FASTER PAYMENTS OUT</td>\n",
       "      <td>-35.64</td>\n",
       "      <td>FPO</td>\n",
       "      <td>INSURANCE</td>\n",
       "      <td>VAL</td>\n",
       "    </tr>\n",
       "    <tr>\n",
       "      <th>12497</th>\n",
       "      <td>24140327</td>\n",
       "      <td>SUNDRY DEBIT Direct Debit coversure</td>\n",
       "      <td>-22.37</td>\n",
       "      <td>DD</td>\n",
       "      <td>INSURANCE</td>\n",
       "      <td>VAL</td>\n",
       "    </tr>\n",
       "    <tr>\n",
       "      <th>12498</th>\n",
       "      <td>24140328</td>\n",
       "      <td>17Aug19 insurance Direct Debit</td>\n",
       "      <td>-23.11</td>\n",
       "      <td>DD</td>\n",
       "      <td>INSURANCE</td>\n",
       "      <td>VAL</td>\n",
       "    </tr>\n",
       "    <tr>\n",
       "      <th>12499</th>\n",
       "      <td>24140329</td>\n",
       "      <td>enterprise car insurance</td>\n",
       "      <td>-24.15</td>\n",
       "      <td>DD</td>\n",
       "      <td>INSURANCE</td>\n",
       "      <td>VAL</td>\n",
       "    </tr>\n",
       "  </tbody>\n",
       "</table>\n",
       "<p>12500 rows × 6 columns</p>\n",
       "</div>"
      ],
      "text/plain": [
       "       bank_transaction_id         bank_transaction_description  \\\n",
       "0                 21786195                             citylink   \n",
       "1                 21786196                             citylink   \n",
       "2                 21786197                        1Jul19 OYSTER   \n",
       "3                 21786198                           travelodge   \n",
       "4                 21786199                        6Jul19 RINGGO   \n",
       "...                    ...                                  ...   \n",
       "12495             24140325                            COVERSURE   \n",
       "12496             24140326   DIRECTLINE INS FASTER PAYMENTS OUT   \n",
       "12497             24140327  SUNDRY DEBIT Direct Debit coversure   \n",
       "12498             24140328       17Aug19 insurance Direct Debit   \n",
       "12499             24140329             enterprise car insurance   \n",
       "\n",
       "       bank_transaction_amount bank_transaction_type  \\\n",
       "0                       -13.80                   MPO   \n",
       "1                       -13.14                   DEB   \n",
       "2                       -36.98                   DEB   \n",
       "3                       -75.73                   MPO   \n",
       "4                       -37.86                   CSH   \n",
       "...                        ...                   ...   \n",
       "12495                   -28.46                   FPO   \n",
       "12496                   -35.64                   FPO   \n",
       "12497                   -22.37                    DD   \n",
       "12498                   -23.11                    DD   \n",
       "12499                   -24.15                    DD   \n",
       "\n",
       "      bank_transaction_category bank_transaction_dataset  \n",
       "0                        TRAVEL                    TRAIN  \n",
       "1                        TRAVEL                    TRAIN  \n",
       "2                        TRAVEL                    TRAIN  \n",
       "3                        TRAVEL                    TRAIN  \n",
       "4                        TRAVEL                    TRAIN  \n",
       "...                         ...                      ...  \n",
       "12495                 INSURANCE                      VAL  \n",
       "12496                 INSURANCE                      VAL  \n",
       "12497                 INSURANCE                      VAL  \n",
       "12498                 INSURANCE                      VAL  \n",
       "12499                 INSURANCE                      VAL  \n",
       "\n",
       "[12500 rows x 6 columns]"
      ]
     },
     "execution_count": 252,
     "metadata": {},
     "output_type": "execute_result"
    }
   ],
   "source": [
    "Data"
   ]
  },
  {
   "cell_type": "code",
   "execution_count": 253,
   "id": "bearing-implementation",
   "metadata": {},
   "outputs": [
    {
     "data": {
      "text/plain": [
       "bank_transaction_id               0\n",
       "bank_transaction_description    131\n",
       "bank_transaction_amount           0\n",
       "bank_transaction_type             0\n",
       "bank_transaction_category         0\n",
       "bank_transaction_dataset          0\n",
       "dtype: int64"
      ]
     },
     "execution_count": 253,
     "metadata": {},
     "output_type": "execute_result"
    }
   ],
   "source": [
    "Data.isna().sum()\n"
   ]
  },
  {
   "cell_type": "code",
   "execution_count": 254,
   "id": "wrong-composer",
   "metadata": {},
   "outputs": [],
   "source": [
    "Data=Data.dropna()"
   ]
  },
  {
   "cell_type": "code",
   "execution_count": 255,
   "id": "dying-bumper",
   "metadata": {},
   "outputs": [
    {
     "data": {
      "text/html": [
       "<div>\n",
       "<style scoped>\n",
       "    .dataframe tbody tr th:only-of-type {\n",
       "        vertical-align: middle;\n",
       "    }\n",
       "\n",
       "    .dataframe tbody tr th {\n",
       "        vertical-align: top;\n",
       "    }\n",
       "\n",
       "    .dataframe thead th {\n",
       "        text-align: right;\n",
       "    }\n",
       "</style>\n",
       "<table border=\"1\" class=\"dataframe\">\n",
       "  <thead>\n",
       "    <tr style=\"text-align: right;\">\n",
       "      <th></th>\n",
       "      <th>bank_transaction_id</th>\n",
       "      <th>bank_transaction_description</th>\n",
       "      <th>bank_transaction_amount</th>\n",
       "      <th>bank_transaction_type</th>\n",
       "      <th>bank_transaction_category</th>\n",
       "      <th>bank_transaction_dataset</th>\n",
       "    </tr>\n",
       "  </thead>\n",
       "  <tbody>\n",
       "    <tr>\n",
       "      <th>0</th>\n",
       "      <td>21786195</td>\n",
       "      <td>citylink</td>\n",
       "      <td>-13.80</td>\n",
       "      <td>MPO</td>\n",
       "      <td>TRAVEL</td>\n",
       "      <td>TRAIN</td>\n",
       "    </tr>\n",
       "    <tr>\n",
       "      <th>1</th>\n",
       "      <td>21786196</td>\n",
       "      <td>citylink</td>\n",
       "      <td>-13.14</td>\n",
       "      <td>DEB</td>\n",
       "      <td>TRAVEL</td>\n",
       "      <td>TRAIN</td>\n",
       "    </tr>\n",
       "    <tr>\n",
       "      <th>2</th>\n",
       "      <td>21786197</td>\n",
       "      <td>1Jul19 OYSTER</td>\n",
       "      <td>-36.98</td>\n",
       "      <td>DEB</td>\n",
       "      <td>TRAVEL</td>\n",
       "      <td>TRAIN</td>\n",
       "    </tr>\n",
       "    <tr>\n",
       "      <th>3</th>\n",
       "      <td>21786198</td>\n",
       "      <td>travelodge</td>\n",
       "      <td>-75.73</td>\n",
       "      <td>MPO</td>\n",
       "      <td>TRAVEL</td>\n",
       "      <td>TRAIN</td>\n",
       "    </tr>\n",
       "    <tr>\n",
       "      <th>4</th>\n",
       "      <td>21786199</td>\n",
       "      <td>6Jul19 RINGGO</td>\n",
       "      <td>-37.86</td>\n",
       "      <td>CSH</td>\n",
       "      <td>TRAVEL</td>\n",
       "      <td>TRAIN</td>\n",
       "    </tr>\n",
       "    <tr>\n",
       "      <th>...</th>\n",
       "      <td>...</td>\n",
       "      <td>...</td>\n",
       "      <td>...</td>\n",
       "      <td>...</td>\n",
       "      <td>...</td>\n",
       "      <td>...</td>\n",
       "    </tr>\n",
       "    <tr>\n",
       "      <th>12495</th>\n",
       "      <td>24140325</td>\n",
       "      <td>COVERSURE</td>\n",
       "      <td>-28.46</td>\n",
       "      <td>FPO</td>\n",
       "      <td>INSURANCE</td>\n",
       "      <td>VAL</td>\n",
       "    </tr>\n",
       "    <tr>\n",
       "      <th>12496</th>\n",
       "      <td>24140326</td>\n",
       "      <td>DIRECTLINE INS FASTER PAYMENTS OUT</td>\n",
       "      <td>-35.64</td>\n",
       "      <td>FPO</td>\n",
       "      <td>INSURANCE</td>\n",
       "      <td>VAL</td>\n",
       "    </tr>\n",
       "    <tr>\n",
       "      <th>12497</th>\n",
       "      <td>24140327</td>\n",
       "      <td>SUNDRY DEBIT Direct Debit coversure</td>\n",
       "      <td>-22.37</td>\n",
       "      <td>DD</td>\n",
       "      <td>INSURANCE</td>\n",
       "      <td>VAL</td>\n",
       "    </tr>\n",
       "    <tr>\n",
       "      <th>12498</th>\n",
       "      <td>24140328</td>\n",
       "      <td>17Aug19 insurance Direct Debit</td>\n",
       "      <td>-23.11</td>\n",
       "      <td>DD</td>\n",
       "      <td>INSURANCE</td>\n",
       "      <td>VAL</td>\n",
       "    </tr>\n",
       "    <tr>\n",
       "      <th>12499</th>\n",
       "      <td>24140329</td>\n",
       "      <td>enterprise car insurance</td>\n",
       "      <td>-24.15</td>\n",
       "      <td>DD</td>\n",
       "      <td>INSURANCE</td>\n",
       "      <td>VAL</td>\n",
       "    </tr>\n",
       "  </tbody>\n",
       "</table>\n",
       "<p>12369 rows × 6 columns</p>\n",
       "</div>"
      ],
      "text/plain": [
       "       bank_transaction_id         bank_transaction_description  \\\n",
       "0                 21786195                             citylink   \n",
       "1                 21786196                             citylink   \n",
       "2                 21786197                        1Jul19 OYSTER   \n",
       "3                 21786198                           travelodge   \n",
       "4                 21786199                        6Jul19 RINGGO   \n",
       "...                    ...                                  ...   \n",
       "12495             24140325                            COVERSURE   \n",
       "12496             24140326   DIRECTLINE INS FASTER PAYMENTS OUT   \n",
       "12497             24140327  SUNDRY DEBIT Direct Debit coversure   \n",
       "12498             24140328       17Aug19 insurance Direct Debit   \n",
       "12499             24140329             enterprise car insurance   \n",
       "\n",
       "       bank_transaction_amount bank_transaction_type  \\\n",
       "0                       -13.80                   MPO   \n",
       "1                       -13.14                   DEB   \n",
       "2                       -36.98                   DEB   \n",
       "3                       -75.73                   MPO   \n",
       "4                       -37.86                   CSH   \n",
       "...                        ...                   ...   \n",
       "12495                   -28.46                   FPO   \n",
       "12496                   -35.64                   FPO   \n",
       "12497                   -22.37                    DD   \n",
       "12498                   -23.11                    DD   \n",
       "12499                   -24.15                    DD   \n",
       "\n",
       "      bank_transaction_category bank_transaction_dataset  \n",
       "0                        TRAVEL                    TRAIN  \n",
       "1                        TRAVEL                    TRAIN  \n",
       "2                        TRAVEL                    TRAIN  \n",
       "3                        TRAVEL                    TRAIN  \n",
       "4                        TRAVEL                    TRAIN  \n",
       "...                         ...                      ...  \n",
       "12495                 INSURANCE                      VAL  \n",
       "12496                 INSURANCE                      VAL  \n",
       "12497                 INSURANCE                      VAL  \n",
       "12498                 INSURANCE                      VAL  \n",
       "12499                 INSURANCE                      VAL  \n",
       "\n",
       "[12369 rows x 6 columns]"
      ]
     },
     "execution_count": 255,
     "metadata": {},
     "output_type": "execute_result"
    }
   ],
   "source": [
    "Data"
   ]
  },
  {
   "cell_type": "code",
   "execution_count": 207,
   "id": "dedicated-continent",
   "metadata": {},
   "outputs": [
    {
     "data": {
      "image/png": "[encoded data removed]",
      "text/plain": [
       "<Figure size 1220.1x1008 with 6 Axes>"
      ]
     },
     "metadata": {},
     "output_type": "display_data"
    }
   ],
   "source": [
    "sns.pairplot(Data, hue=\"bank_transaction_category\",height=7.0,diag_kind=\"hist\");"
   ]
  },
  {
   "cell_type": "code",
   "execution_count": 208,
   "id": "dependent-calibration",
   "metadata": {},
   "outputs": [
    {
     "data": {
      "text/plain": [
       "<seaborn.axisgrid.FacetGrid at 0x236508dc2b0>"
      ]
     },
     "execution_count": 208,
     "metadata": {},
     "output_type": "execute_result"
    },
    {
     "data": {
      "image/png": "[encoded data removed]",
      "text/plain": [
       "<Figure size 360x360 with 1 Axes>"
      ]
     },
     "metadata": {},
     "output_type": "display_data"
    }
   ],
   "source": [
    "sns.catplot(x=\"bank_transaction_type\",kind=\"count\", data=Data)"
   ]
  },
  {
   "cell_type": "code",
   "execution_count": 209,
   "id": "organized-breed",
   "metadata": {},
   "outputs": [
    {
     "data": {
      "text/plain": [
       "TRAIN    9891\n",
       "VAL      2478\n",
       "Name: bank_transaction_dataset, dtype: int64"
      ]
     },
     "execution_count": 209,
     "metadata": {},
     "output_type": "execute_result"
    }
   ],
   "source": [
    "Data[\"bank_transaction_dataset\"].value_counts()"
   ]
  },
  {
   "cell_type": "code",
   "execution_count": 210,
   "id": "offshore-official",
   "metadata": {},
   "outputs": [],
   "source": [
    "# import matplotlib.pyplot as plt\n",
    "# %matplotlib inline\n",
    "# data = Data.groupby(\"type\")[\"del_tip\"].sum()\n",
    "# data.plot.pie(autopct=\"%.1f%%\");\n",
    "# pie, ax = plt.subplots(figsize=[10,6])\n",
    "# labels = data.keys()\n",
    "# plt.pie(x=data, autopct=\"%.1f%%\", explode=[0.05]*4, labels=labels, pctdistance=0.5)\n",
    "# plt.title(\"Delivery Tips by type\", fontsize=14);"
   ]
  },
  {
   "cell_type": "code",
   "execution_count": 92,
   "id": "motivated-thousand",
   "metadata": {},
   "outputs": [
    {
     "data": {
      "image/png": "[encoded data removed]",
      "text/plain": [
       "<Figure size 432x288 with 1 Axes>"
      ]
     },
     "metadata": {},
     "output_type": "display_data"
    }
   ],
   "source": [
    "sns.set_theme(style=\"whitegrid\")\n",
    "ax = sns.barplot(x=\"bank_transaction_description\", y=\"bank_transaction_amount\", data=Data)"
   ]
  },
  {
   "cell_type": "markdown",
   "id": "superior-bathroom",
   "metadata": {},
   "source": [
    "Transaction classification model\n"
   ]
  },
  {
   "cell_type": "code",
   "execution_count": 94,
   "id": "general-tuesday",
   "metadata": {},
   "outputs": [
    {
     "name": "stdout",
     "output_type": "stream",
     "text": [
      "Collecting scikit-learnNote: you may need to restart the kernel to use updated packages.\n",
      "  Downloading scikit_learn-0.24.1-cp39-cp39-win_amd64.whl (6.9 MB)\n",
      "Collecting threadpoolctl>=2.0.0\n",
      "  Downloading threadpoolctl-2.1.0-py3-none-any.whl (12 kB)\n",
      "Requirement already satisfied: scipy>=0.19.1 in d:\\drivers\\lib\\site-packages (from scikit-learn) (1.6.1)\n",
      "Collecting joblib>=0.11\n",
      "  Downloading joblib-1.0.1-py3-none-any.whl (303 kB)\n",
      "Requirement already satisfied: numpy>=1.13.3 in c:\\users\\bhavana\\appdata\\roaming\\python\\python39\\site-packages (from scikit-learn) (1.19.4)\n",
      "Installing collected packages: threadpoolctl, joblib, scikit-learn\n",
      "Successfully installed joblib-1.0.1 scikit-learn-0.24.1 threadpoolctl-2.1.0\n",
      "\n"
     ]
    }
   ],
   "source": [
    "pip install scikit-learn"
   ]
  },
  {
   "cell_type": "code",
   "execution_count": 256,
   "id": "convertible-deadline",
   "metadata": {},
   "outputs": [
    {
     "name": "stderr",
     "output_type": "stream",
     "text": [
      "C:\\Users\\BHAVANA\\AppData\\Roaming\\Python\\Python39\\site-packages\\pandas\\core\\indexing.py:1743: SettingWithCopyWarning: \n",
      "A value is trying to be set on a copy of a slice from a DataFrame.\n",
      "Try using .loc[row_indexer,col_indexer] = value instead\n",
      "\n",
      "See the caveats in the documentation: https://pandas.pydata.org/pandas-docs/stable/user_guide/indexing.html#returning-a-view-versus-a-copy\n",
      "  isetter(ilocs[0], value)\n"
     ]
    }
   ],
   "source": [
    "#Encoding categorical data\n",
    "from sklearn.preprocessing import LabelEncoder\n",
    "labelencoder_desc= LabelEncoder()\n",
    "Data.iloc[:,1]= labelencoder_desc.fit_transform(Data.iloc[:,1])\n",
    "labelencoder_type= LabelEncoder()\n",
    "Data.iloc[:,3]=labelencoder_type.fit_transform(Data.iloc[:,3])\n",
    "labelencoder_cate= LabelEncoder()\n",
    "Data.iloc[:,4]=labelencoder_cate.fit_transform(Data.iloc[:,4])\n"
   ]
  },
  {
   "cell_type": "code",
   "execution_count": 257,
   "id": "brazilian-shelter",
   "metadata": {},
   "outputs": [],
   "source": [
    "from sklearn.preprocessing import OneHotEncoder\n",
    "onehotencoder = OneHotEncoder()\n",
    "d = onehotencoder.fit_transform(Data.bank_transaction_type.values.reshape(-1,1)).toarray()\n",
    "dfOneHot = pd.DataFrame(d)\n",
    "df = pd.concat([Data, dfOneHot], axis=1)\n",
    "#df= df.drop(['bank_transaction_type'], axis=1)"
   ]
  },
  {
   "cell_type": "code",
   "execution_count": 258,
   "id": "successful-subcommittee",
   "metadata": {},
   "outputs": [
    {
     "data": {
      "text/html": [
       "<div>\n",
       "<style scoped>\n",
       "    .dataframe tbody tr th:only-of-type {\n",
       "        vertical-align: middle;\n",
       "    }\n",
       "\n",
       "    .dataframe tbody tr th {\n",
       "        vertical-align: top;\n",
       "    }\n",
       "\n",
       "    .dataframe thead th {\n",
       "        text-align: right;\n",
       "    }\n",
       "</style>\n",
       "<table border=\"1\" class=\"dataframe\">\n",
       "  <thead>\n",
       "    <tr style=\"text-align: right;\">\n",
       "      <th></th>\n",
       "      <th>bank_transaction_id</th>\n",
       "      <th>bank_transaction_description</th>\n",
       "      <th>bank_transaction_amount</th>\n",
       "      <th>bank_transaction_type</th>\n",
       "      <th>bank_transaction_category</th>\n",
       "      <th>bank_transaction_dataset</th>\n",
       "      <th>0</th>\n",
       "      <th>1</th>\n",
       "      <th>2</th>\n",
       "      <th>3</th>\n",
       "      <th>4</th>\n",
       "      <th>5</th>\n",
       "    </tr>\n",
       "  </thead>\n",
       "  <tbody>\n",
       "    <tr>\n",
       "      <th>0</th>\n",
       "      <td>21786195.0</td>\n",
       "      <td>8412.0</td>\n",
       "      <td>-13.80</td>\n",
       "      <td>5.0</td>\n",
       "      <td>4.0</td>\n",
       "      <td>TRAIN</td>\n",
       "      <td>0.0</td>\n",
       "      <td>0.0</td>\n",
       "      <td>0.0</td>\n",
       "      <td>0.0</td>\n",
       "      <td>0.0</td>\n",
       "      <td>1.0</td>\n",
       "    </tr>\n",
       "    <tr>\n",
       "      <th>1</th>\n",
       "      <td>21786196.0</td>\n",
       "      <td>8412.0</td>\n",
       "      <td>-13.14</td>\n",
       "      <td>3.0</td>\n",
       "      <td>4.0</td>\n",
       "      <td>TRAIN</td>\n",
       "      <td>0.0</td>\n",
       "      <td>0.0</td>\n",
       "      <td>0.0</td>\n",
       "      <td>1.0</td>\n",
       "      <td>0.0</td>\n",
       "      <td>0.0</td>\n",
       "    </tr>\n",
       "    <tr>\n",
       "      <th>2</th>\n",
       "      <td>21786197.0</td>\n",
       "      <td>209.0</td>\n",
       "      <td>-36.98</td>\n",
       "      <td>3.0</td>\n",
       "      <td>4.0</td>\n",
       "      <td>TRAIN</td>\n",
       "      <td>0.0</td>\n",
       "      <td>0.0</td>\n",
       "      <td>0.0</td>\n",
       "      <td>1.0</td>\n",
       "      <td>0.0</td>\n",
       "      <td>0.0</td>\n",
       "    </tr>\n",
       "    <tr>\n",
       "      <th>3</th>\n",
       "      <td>21786198.0</td>\n",
       "      <td>9327.0</td>\n",
       "      <td>-75.73</td>\n",
       "      <td>5.0</td>\n",
       "      <td>4.0</td>\n",
       "      <td>TRAIN</td>\n",
       "      <td>0.0</td>\n",
       "      <td>0.0</td>\n",
       "      <td>0.0</td>\n",
       "      <td>0.0</td>\n",
       "      <td>0.0</td>\n",
       "      <td>1.0</td>\n",
       "    </tr>\n",
       "    <tr>\n",
       "      <th>4</th>\n",
       "      <td>21786199.0</td>\n",
       "      <td>518.0</td>\n",
       "      <td>-37.86</td>\n",
       "      <td>1.0</td>\n",
       "      <td>4.0</td>\n",
       "      <td>TRAIN</td>\n",
       "      <td>0.0</td>\n",
       "      <td>1.0</td>\n",
       "      <td>0.0</td>\n",
       "      <td>0.0</td>\n",
       "      <td>0.0</td>\n",
       "      <td>0.0</td>\n",
       "    </tr>\n",
       "    <tr>\n",
       "      <th>...</th>\n",
       "      <td>...</td>\n",
       "      <td>...</td>\n",
       "      <td>...</td>\n",
       "      <td>...</td>\n",
       "      <td>...</td>\n",
       "      <td>...</td>\n",
       "      <td>...</td>\n",
       "      <td>...</td>\n",
       "      <td>...</td>\n",
       "      <td>...</td>\n",
       "      <td>...</td>\n",
       "      <td>...</td>\n",
       "    </tr>\n",
       "    <tr>\n",
       "      <th>12495</th>\n",
       "      <td>24140325.0</td>\n",
       "      <td>1404.0</td>\n",
       "      <td>-28.46</td>\n",
       "      <td>4.0</td>\n",
       "      <td>2.0</td>\n",
       "      <td>VAL</td>\n",
       "      <td>NaN</td>\n",
       "      <td>NaN</td>\n",
       "      <td>NaN</td>\n",
       "      <td>NaN</td>\n",
       "      <td>NaN</td>\n",
       "      <td>NaN</td>\n",
       "    </tr>\n",
       "    <tr>\n",
       "      <th>12496</th>\n",
       "      <td>24140326.0</td>\n",
       "      <td>1582.0</td>\n",
       "      <td>-35.64</td>\n",
       "      <td>4.0</td>\n",
       "      <td>2.0</td>\n",
       "      <td>VAL</td>\n",
       "      <td>NaN</td>\n",
       "      <td>NaN</td>\n",
       "      <td>NaN</td>\n",
       "      <td>NaN</td>\n",
       "      <td>NaN</td>\n",
       "      <td>NaN</td>\n",
       "    </tr>\n",
       "    <tr>\n",
       "      <th>12497</th>\n",
       "      <td>24140327.0</td>\n",
       "      <td>5781.0</td>\n",
       "      <td>-22.37</td>\n",
       "      <td>2.0</td>\n",
       "      <td>2.0</td>\n",
       "      <td>VAL</td>\n",
       "      <td>NaN</td>\n",
       "      <td>NaN</td>\n",
       "      <td>NaN</td>\n",
       "      <td>NaN</td>\n",
       "      <td>NaN</td>\n",
       "      <td>NaN</td>\n",
       "    </tr>\n",
       "    <tr>\n",
       "      <th>12498</th>\n",
       "      <td>24140328.0</td>\n",
       "      <td>138.0</td>\n",
       "      <td>-23.11</td>\n",
       "      <td>2.0</td>\n",
       "      <td>2.0</td>\n",
       "      <td>VAL</td>\n",
       "      <td>NaN</td>\n",
       "      <td>NaN</td>\n",
       "      <td>NaN</td>\n",
       "      <td>NaN</td>\n",
       "      <td>NaN</td>\n",
       "      <td>NaN</td>\n",
       "    </tr>\n",
       "    <tr>\n",
       "      <th>12499</th>\n",
       "      <td>24140329.0</td>\n",
       "      <td>8552.0</td>\n",
       "      <td>-24.15</td>\n",
       "      <td>2.0</td>\n",
       "      <td>2.0</td>\n",
       "      <td>VAL</td>\n",
       "      <td>NaN</td>\n",
       "      <td>NaN</td>\n",
       "      <td>NaN</td>\n",
       "      <td>NaN</td>\n",
       "      <td>NaN</td>\n",
       "      <td>NaN</td>\n",
       "    </tr>\n",
       "  </tbody>\n",
       "</table>\n",
       "<p>12500 rows × 12 columns</p>\n",
       "</div>"
      ],
      "text/plain": [
       "       bank_transaction_id  bank_transaction_description  \\\n",
       "0               21786195.0                        8412.0   \n",
       "1               21786196.0                        8412.0   \n",
       "2               21786197.0                         209.0   \n",
       "3               21786198.0                        9327.0   \n",
       "4               21786199.0                         518.0   \n",
       "...                    ...                           ...   \n",
       "12495           24140325.0                        1404.0   \n",
       "12496           24140326.0                        1582.0   \n",
       "12497           24140327.0                        5781.0   \n",
       "12498           24140328.0                         138.0   \n",
       "12499           24140329.0                        8552.0   \n",
       "\n",
       "       bank_transaction_amount  bank_transaction_type  \\\n",
       "0                       -13.80                    5.0   \n",
       "1                       -13.14                    3.0   \n",
       "2                       -36.98                    3.0   \n",
       "3                       -75.73                    5.0   \n",
       "4                       -37.86                    1.0   \n",
       "...                        ...                    ...   \n",
       "12495                   -28.46                    4.0   \n",
       "12496                   -35.64                    4.0   \n",
       "12497                   -22.37                    2.0   \n",
       "12498                   -23.11                    2.0   \n",
       "12499                   -24.15                    2.0   \n",
       "\n",
       "       bank_transaction_category bank_transaction_dataset    0    1    2    3  \\\n",
       "0                            4.0                    TRAIN  0.0  0.0  0.0  0.0   \n",
       "1                            4.0                    TRAIN  0.0  0.0  0.0  1.0   \n",
       "2                            4.0                    TRAIN  0.0  0.0  0.0  1.0   \n",
       "3                            4.0                    TRAIN  0.0  0.0  0.0  0.0   \n",
       "4                            4.0                    TRAIN  0.0  1.0  0.0  0.0   \n",
       "...                          ...                      ...  ...  ...  ...  ...   \n",
       "12495                        2.0                      VAL  NaN  NaN  NaN  NaN   \n",
       "12496                        2.0                      VAL  NaN  NaN  NaN  NaN   \n",
       "12497                        2.0                      VAL  NaN  NaN  NaN  NaN   \n",
       "12498                        2.0                      VAL  NaN  NaN  NaN  NaN   \n",
       "12499                        2.0                      VAL  NaN  NaN  NaN  NaN   \n",
       "\n",
       "         4    5  \n",
       "0      0.0  1.0  \n",
       "1      0.0  0.0  \n",
       "2      0.0  0.0  \n",
       "3      0.0  1.0  \n",
       "4      0.0  0.0  \n",
       "...    ...  ...  \n",
       "12495  NaN  NaN  \n",
       "12496  NaN  NaN  \n",
       "12497  NaN  NaN  \n",
       "12498  NaN  NaN  \n",
       "12499  NaN  NaN  \n",
       "\n",
       "[12500 rows x 12 columns]"
      ]
     },
     "execution_count": 258,
     "metadata": {},
     "output_type": "execute_result"
    }
   ],
   "source": [
    "df"
   ]
  },
  {
   "cell_type": "code",
   "execution_count": 241,
   "id": "controlled-jason",
   "metadata": {},
   "outputs": [
    {
     "data": {
      "text/plain": [
       "(12369, 6)"
      ]
     },
     "execution_count": 241,
     "metadata": {},
     "output_type": "execute_result"
    }
   ],
   "source": [
    "pd.DataFrame(d).shape"
   ]
  },
  {
   "cell_type": "code",
   "execution_count": 163,
   "id": "turkish-search",
   "metadata": {},
   "outputs": [
    {
     "data": {
      "text/plain": [
       "(12369, 6)"
      ]
     },
     "execution_count": 163,
     "metadata": {},
     "output_type": "execute_result"
    }
   ],
   "source": [
    ".shape"
   ]
  },
  {
   "cell_type": "code",
   "execution_count": 232,
   "id": "arranged-lighting",
   "metadata": {},
   "outputs": [],
   "source": []
  },
  {
   "cell_type": "code",
   "execution_count": 164,
   "id": "cross-eight",
   "metadata": {},
   "outputs": [
    {
     "data": {
      "text/plain": [
       "(12369, 6)"
      ]
     },
     "execution_count": 164,
     "metadata": {},
     "output_type": "execute_result"
    }
   ],
   "source": [
    "Data.shape"
   ]
  },
  {
   "cell_type": "code",
   "execution_count": 167,
   "id": "grateful-seeker",
   "metadata": {},
   "outputs": [
    {
     "data": {
      "text/plain": [
       "bank_transaction_type_0    0\n",
       "bank_transaction_type_1    0\n",
       "bank_transaction_type_2    0\n",
       "bank_transaction_type_3    0\n",
       "bank_transaction_type_4    0\n",
       "bank_transaction_type_5    0\n",
       "dtype: int64"
      ]
     },
     "execution_count": 167,
     "metadata": {},
     "output_type": "execute_result"
    }
   ],
   "source": [
    "dfOneHot.isna().sum()"
   ]
  },
  {
   "cell_type": "code",
   "execution_count": 166,
   "id": "fresh-shoot",
   "metadata": {},
   "outputs": [
    {
     "data": {
      "text/plain": [
       "bank_transaction_id             131\n",
       "bank_transaction_description    131\n",
       "bank_transaction_amount         131\n",
       "bank_transaction_category       131\n",
       "bank_transaction_dataset        131\n",
       "bank_transaction_type_0         131\n",
       "bank_transaction_type_1         131\n",
       "bank_transaction_type_2         131\n",
       "bank_transaction_type_3         131\n",
       "bank_transaction_type_4         131\n",
       "bank_transaction_type_5         131\n",
       "dtype: int64"
      ]
     },
     "execution_count": 166,
     "metadata": {},
     "output_type": "execute_result"
    }
   ],
   "source": [
    "df.isna().sum()"
   ]
  },
  {
   "cell_type": "markdown",
   "id": "deadly-liverpool",
   "metadata": {},
   "source": [
    "TrainData = Data.loc[Data[\"bank_transaction_dataset\"] == \"TRAIN\"]\n",
    "ValidationData = Data.loc[Data[\"bank_transaction_dataset\"] == \"VAL\"]"
   ]
  },
  {
   "cell_type": "code",
   "execution_count": 134,
   "id": "promising-passing",
   "metadata": {},
   "outputs": [
    {
     "data": {
      "text/html": [
       "<div>\n",
       "<style scoped>\n",
       "    .dataframe tbody tr th:only-of-type {\n",
       "        vertical-align: middle;\n",
       "    }\n",
       "\n",
       "    .dataframe tbody tr th {\n",
       "        vertical-align: top;\n",
       "    }\n",
       "\n",
       "    .dataframe thead th {\n",
       "        text-align: right;\n",
       "    }\n",
       "</style>\n",
       "<table border=\"1\" class=\"dataframe\">\n",
       "  <thead>\n",
       "    <tr style=\"text-align: right;\">\n",
       "      <th></th>\n",
       "      <th>bank_transaction_id</th>\n",
       "      <th>bank_transaction_description</th>\n",
       "      <th>bank_transaction_amount</th>\n",
       "      <th>bank_transaction_type</th>\n",
       "      <th>bank_transaction_category</th>\n",
       "      <th>bank_transaction_dataset</th>\n",
       "    </tr>\n",
       "  </thead>\n",
       "  <tbody>\n",
       "    <tr>\n",
       "      <th>0</th>\n",
       "      <td>21786195</td>\n",
       "      <td>citylink</td>\n",
       "      <td>-13.80</td>\n",
       "      <td>MPO</td>\n",
       "      <td>TRAVEL</td>\n",
       "      <td>TRAIN</td>\n",
       "    </tr>\n",
       "    <tr>\n",
       "      <th>1</th>\n",
       "      <td>21786196</td>\n",
       "      <td>citylink</td>\n",
       "      <td>-13.14</td>\n",
       "      <td>DEB</td>\n",
       "      <td>TRAVEL</td>\n",
       "      <td>TRAIN</td>\n",
       "    </tr>\n",
       "    <tr>\n",
       "      <th>2</th>\n",
       "      <td>21786197</td>\n",
       "      <td>1Jul19 OYSTER</td>\n",
       "      <td>-36.98</td>\n",
       "      <td>DEB</td>\n",
       "      <td>TRAVEL</td>\n",
       "      <td>TRAIN</td>\n",
       "    </tr>\n",
       "    <tr>\n",
       "      <th>3</th>\n",
       "      <td>21786198</td>\n",
       "      <td>travelodge</td>\n",
       "      <td>-75.73</td>\n",
       "      <td>MPO</td>\n",
       "      <td>TRAVEL</td>\n",
       "      <td>TRAIN</td>\n",
       "    </tr>\n",
       "    <tr>\n",
       "      <th>4</th>\n",
       "      <td>21786199</td>\n",
       "      <td>6Jul19 RINGGO</td>\n",
       "      <td>-37.86</td>\n",
       "      <td>CSH</td>\n",
       "      <td>TRAVEL</td>\n",
       "      <td>TRAIN</td>\n",
       "    </tr>\n",
       "    <tr>\n",
       "      <th>...</th>\n",
       "      <td>...</td>\n",
       "      <td>...</td>\n",
       "      <td>...</td>\n",
       "      <td>...</td>\n",
       "      <td>...</td>\n",
       "      <td>...</td>\n",
       "    </tr>\n",
       "    <tr>\n",
       "      <th>9995</th>\n",
       "      <td>21796190</td>\n",
       "      <td>directline ins Direct Debit</td>\n",
       "      <td>-23.50</td>\n",
       "      <td>DD</td>\n",
       "      <td>INSURANCE</td>\n",
       "      <td>TRAIN</td>\n",
       "    </tr>\n",
       "    <tr>\n",
       "      <th>9996</th>\n",
       "      <td>21796191</td>\n",
       "      <td>Direct Debit ON 21 Aug directline ins</td>\n",
       "      <td>-25.75</td>\n",
       "      <td>DD</td>\n",
       "      <td>INSURANCE</td>\n",
       "      <td>TRAIN</td>\n",
       "    </tr>\n",
       "    <tr>\n",
       "      <th>9997</th>\n",
       "      <td>21796192</td>\n",
       "      <td>simply business ON 6 Aug</td>\n",
       "      <td>-25.76</td>\n",
       "      <td>DD</td>\n",
       "      <td>INSURANCE</td>\n",
       "      <td>TRAIN</td>\n",
       "    </tr>\n",
       "    <tr>\n",
       "      <th>9998</th>\n",
       "      <td>21796193</td>\n",
       "      <td>VIA MOBILE ONLINE HISCOX</td>\n",
       "      <td>-21.21</td>\n",
       "      <td>MPO</td>\n",
       "      <td>INSURANCE</td>\n",
       "      <td>TRAIN</td>\n",
       "    </tr>\n",
       "    <tr>\n",
       "      <th>9999</th>\n",
       "      <td>21796194</td>\n",
       "      <td>DIXONS COVERPLAN Direct Debit</td>\n",
       "      <td>-25.96</td>\n",
       "      <td>DD</td>\n",
       "      <td>INSURANCE</td>\n",
       "      <td>TRAIN</td>\n",
       "    </tr>\n",
       "  </tbody>\n",
       "</table>\n",
       "<p>9891 rows × 6 columns</p>\n",
       "</div>"
      ],
      "text/plain": [
       "      bank_transaction_id           bank_transaction_description  \\\n",
       "0                21786195                               citylink   \n",
       "1                21786196                               citylink   \n",
       "2                21786197                          1Jul19 OYSTER   \n",
       "3                21786198                             travelodge   \n",
       "4                21786199                          6Jul19 RINGGO   \n",
       "...                   ...                                    ...   \n",
       "9995             21796190            directline ins Direct Debit   \n",
       "9996             21796191  Direct Debit ON 21 Aug directline ins   \n",
       "9997             21796192               simply business ON 6 Aug   \n",
       "9998             21796193               VIA MOBILE ONLINE HISCOX   \n",
       "9999             21796194          DIXONS COVERPLAN Direct Debit   \n",
       "\n",
       "      bank_transaction_amount bank_transaction_type bank_transaction_category  \\\n",
       "0                      -13.80                   MPO                    TRAVEL   \n",
       "1                      -13.14                   DEB                    TRAVEL   \n",
       "2                      -36.98                   DEB                    TRAVEL   \n",
       "3                      -75.73                   MPO                    TRAVEL   \n",
       "4                      -37.86                   CSH                    TRAVEL   \n",
       "...                       ...                   ...                       ...   \n",
       "9995                   -23.50                    DD                 INSURANCE   \n",
       "9996                   -25.75                    DD                 INSURANCE   \n",
       "9997                   -25.76                    DD                 INSURANCE   \n",
       "9998                   -21.21                   MPO                 INSURANCE   \n",
       "9999                   -25.96                    DD                 INSURANCE   \n",
       "\n",
       "     bank_transaction_dataset  \n",
       "0                       TRAIN  \n",
       "1                       TRAIN  \n",
       "2                       TRAIN  \n",
       "3                       TRAIN  \n",
       "4                       TRAIN  \n",
       "...                       ...  \n",
       "9995                    TRAIN  \n",
       "9996                    TRAIN  \n",
       "9997                    TRAIN  \n",
       "9998                    TRAIN  \n",
       "9999                    TRAIN  \n",
       "\n",
       "[9891 rows x 6 columns]"
      ]
     },
     "execution_count": 134,
     "metadata": {},
     "output_type": "execute_result"
    }
   ],
   "source": [
    "TrainData"
   ]
  },
  {
   "cell_type": "code",
   "execution_count": 135,
   "id": "rapid-chest",
   "metadata": {},
   "outputs": [
    {
     "data": {
      "text/html": [
       "<div>\n",
       "<style scoped>\n",
       "    .dataframe tbody tr th:only-of-type {\n",
       "        vertical-align: middle;\n",
       "    }\n",
       "\n",
       "    .dataframe tbody tr th {\n",
       "        vertical-align: top;\n",
       "    }\n",
       "\n",
       "    .dataframe thead th {\n",
       "        text-align: right;\n",
       "    }\n",
       "</style>\n",
       "<table border=\"1\" class=\"dataframe\">\n",
       "  <thead>\n",
       "    <tr style=\"text-align: right;\">\n",
       "      <th></th>\n",
       "      <th>bank_transaction_id</th>\n",
       "      <th>bank_transaction_description</th>\n",
       "      <th>bank_transaction_amount</th>\n",
       "      <th>bank_transaction_type</th>\n",
       "      <th>bank_transaction_category</th>\n",
       "      <th>bank_transaction_dataset</th>\n",
       "    </tr>\n",
       "  </thead>\n",
       "  <tbody>\n",
       "    <tr>\n",
       "      <th>10000</th>\n",
       "      <td>24137830</td>\n",
       "      <td>TRANSPORT FOR LONDON</td>\n",
       "      <td>-12.70</td>\n",
       "      <td>DEB</td>\n",
       "      <td>TRAVEL</td>\n",
       "      <td>VAL</td>\n",
       "    </tr>\n",
       "    <tr>\n",
       "      <th>10001</th>\n",
       "      <td>24137831</td>\n",
       "      <td>RYANAIR</td>\n",
       "      <td>-24.49</td>\n",
       "      <td>DEB</td>\n",
       "      <td>TRAVEL</td>\n",
       "      <td>VAL</td>\n",
       "    </tr>\n",
       "    <tr>\n",
       "      <th>10002</th>\n",
       "      <td>24137832</td>\n",
       "      <td>ringgo  ON 2019-7-3</td>\n",
       "      <td>-38.81</td>\n",
       "      <td>DEB</td>\n",
       "      <td>TRAVEL</td>\n",
       "      <td>VAL</td>\n",
       "    </tr>\n",
       "    <tr>\n",
       "      <th>10003</th>\n",
       "      <td>24137833</td>\n",
       "      <td>STGCOACH</td>\n",
       "      <td>-32.75</td>\n",
       "      <td>DEB</td>\n",
       "      <td>TRAVEL</td>\n",
       "      <td>VAL</td>\n",
       "    </tr>\n",
       "    <tr>\n",
       "      <th>10004</th>\n",
       "      <td>24137834</td>\n",
       "      <td>SUNDRY DEBIT Cash at Transact ON 5 Aug RINGGO ...</td>\n",
       "      <td>-21.10</td>\n",
       "      <td>CSH</td>\n",
       "      <td>TRAVEL</td>\n",
       "      <td>VAL</td>\n",
       "    </tr>\n",
       "    <tr>\n",
       "      <th>...</th>\n",
       "      <td>...</td>\n",
       "      <td>...</td>\n",
       "      <td>...</td>\n",
       "      <td>...</td>\n",
       "      <td>...</td>\n",
       "      <td>...</td>\n",
       "    </tr>\n",
       "    <tr>\n",
       "      <th>12495</th>\n",
       "      <td>24140325</td>\n",
       "      <td>COVERSURE</td>\n",
       "      <td>-28.46</td>\n",
       "      <td>FPO</td>\n",
       "      <td>INSURANCE</td>\n",
       "      <td>VAL</td>\n",
       "    </tr>\n",
       "    <tr>\n",
       "      <th>12496</th>\n",
       "      <td>24140326</td>\n",
       "      <td>DIRECTLINE INS FASTER PAYMENTS OUT</td>\n",
       "      <td>-35.64</td>\n",
       "      <td>FPO</td>\n",
       "      <td>INSURANCE</td>\n",
       "      <td>VAL</td>\n",
       "    </tr>\n",
       "    <tr>\n",
       "      <th>12497</th>\n",
       "      <td>24140327</td>\n",
       "      <td>SUNDRY DEBIT Direct Debit coversure</td>\n",
       "      <td>-22.37</td>\n",
       "      <td>DD</td>\n",
       "      <td>INSURANCE</td>\n",
       "      <td>VAL</td>\n",
       "    </tr>\n",
       "    <tr>\n",
       "      <th>12498</th>\n",
       "      <td>24140328</td>\n",
       "      <td>17Aug19 insurance Direct Debit</td>\n",
       "      <td>-23.11</td>\n",
       "      <td>DD</td>\n",
       "      <td>INSURANCE</td>\n",
       "      <td>VAL</td>\n",
       "    </tr>\n",
       "    <tr>\n",
       "      <th>12499</th>\n",
       "      <td>24140329</td>\n",
       "      <td>enterprise car insurance</td>\n",
       "      <td>-24.15</td>\n",
       "      <td>DD</td>\n",
       "      <td>INSURANCE</td>\n",
       "      <td>VAL</td>\n",
       "    </tr>\n",
       "  </tbody>\n",
       "</table>\n",
       "<p>2478 rows × 6 columns</p>\n",
       "</div>"
      ],
      "text/plain": [
       "       bank_transaction_id                       bank_transaction_description  \\\n",
       "10000             24137830                               TRANSPORT FOR LONDON   \n",
       "10001             24137831                                            RYANAIR   \n",
       "10002             24137832                                ringgo  ON 2019-7-3   \n",
       "10003             24137833                                           STGCOACH   \n",
       "10004             24137834  SUNDRY DEBIT Cash at Transact ON 5 Aug RINGGO ...   \n",
       "...                    ...                                                ...   \n",
       "12495             24140325                                          COVERSURE   \n",
       "12496             24140326                 DIRECTLINE INS FASTER PAYMENTS OUT   \n",
       "12497             24140327                SUNDRY DEBIT Direct Debit coversure   \n",
       "12498             24140328                     17Aug19 insurance Direct Debit   \n",
       "12499             24140329                           enterprise car insurance   \n",
       "\n",
       "       bank_transaction_amount bank_transaction_type  \\\n",
       "10000                   -12.70                   DEB   \n",
       "10001                   -24.49                   DEB   \n",
       "10002                   -38.81                   DEB   \n",
       "10003                   -32.75                   DEB   \n",
       "10004                   -21.10                   CSH   \n",
       "...                        ...                   ...   \n",
       "12495                   -28.46                   FPO   \n",
       "12496                   -35.64                   FPO   \n",
       "12497                   -22.37                    DD   \n",
       "12498                   -23.11                    DD   \n",
       "12499                   -24.15                    DD   \n",
       "\n",
       "      bank_transaction_category bank_transaction_dataset  \n",
       "10000                    TRAVEL                      VAL  \n",
       "10001                    TRAVEL                      VAL  \n",
       "10002                    TRAVEL                      VAL  \n",
       "10003                    TRAVEL                      VAL  \n",
       "10004                    TRAVEL                      VAL  \n",
       "...                         ...                      ...  \n",
       "12495                 INSURANCE                      VAL  \n",
       "12496                 INSURANCE                      VAL  \n",
       "12497                 INSURANCE                      VAL  \n",
       "12498                 INSURANCE                      VAL  \n",
       "12499                 INSURANCE                      VAL  \n",
       "\n",
       "[2478 rows x 6 columns]"
      ]
     },
     "execution_count": 135,
     "metadata": {},
     "output_type": "execute_result"
    }
   ],
   "source": [
    "ValidationData"
   ]
  },
  {
   "cell_type": "code",
   "execution_count": null,
   "id": "printable-arcade",
   "metadata": {},
   "outputs": [],
   "source": []
  }
 ],
 "metadata": {
  "kernelspec": {
   "display_name": "Python 3",
   "language": "python",
   "name": "python3"
  },
  "language_info": {
   "codemirror_mode": {
    "name": "ipython",
    "version": 3
   },
   "file_extension": ".py",
   "mimetype": "text/x-python",
   "name": "python",
   "nbconvert_exporter": "python",
   "pygments_lexer": "ipython3",
   "version": "3.9.0"
  }
 },
 "nbformat": 4,
 "nbformat_minor": 5
}
